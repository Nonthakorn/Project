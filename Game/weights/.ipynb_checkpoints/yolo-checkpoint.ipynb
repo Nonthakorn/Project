{
 "cells": [
  {
   "cell_type": "code",
   "execution_count": 1,
   "metadata": {},
   "outputs": [
    {
     "name": "stdout",
     "output_type": "stream",
     "text": [
      "Collecting opencv-python\n",
      "  Downloading opencv_python-4.4.0.46-cp38-cp38-win_amd64.whl (33.5 MB)\n",
      "Requirement already satisfied: numpy>=1.17.3 in c:\\users\\fluke\\anaconda3\\lib\\site-packages (from opencv-python) (1.18.5)\n",
      "Installing collected packages: opencv-python\n",
      "Successfully installed opencv-python-4.4.0.46\n",
      "Note: you may need to restart the kernel to use updated packages.\n"
     ]
    }
   ],
   "source": [
    "pip install opencv-python"
   ]
  },
  {
   "cell_type": "code",
   "execution_count": 2,
   "metadata": {},
   "outputs": [],
   "source": [
    "import cv2"
   ]
  },
  {
   "cell_type": "code",
   "execution_count": 3,
   "metadata": {},
   "outputs": [],
   "source": [
    "import numpy as np"
   ]
  },
  {
   "cell_type": "code",
   "execution_count": 4,
   "metadata": {},
   "outputs": [],
   "source": [
    "#Load YOLO\n",
    "net = cv2.dnn.readNet(\"yolov3_custom3_final.weights\",\"yolov3_custom3.cfg\")\n",
    "classes = []\n",
    "with open(\"obj.names\",\"r\") as f:\n",
    "    classes = [line.strip() for line in f.readlines()]"
   ]
  },
  {
   "cell_type": "code",
   "execution_count": 5,
   "metadata": {},
   "outputs": [],
   "source": [
    "layer_names = net.getLayerNames()\n",
    "outputlayers = [layer_names[i[0] - 1] for i in net.getUnconnectedOutLayers()]"
   ]
  },
  {
   "cell_type": "code",
   "execution_count": 6,
   "metadata": {},
   "outputs": [],
   "source": [
    "colors= np.random.uniform(0,255,size=(len(classes),3))"
   ]
  },
  {
   "cell_type": "code",
   "execution_count": 7,
   "metadata": {},
   "outputs": [],
   "source": [
    "#loading image\n",
    "img = cv2.imread(\"test/IMG_1165.JPG\")\n",
    "img = cv2.resize(img,None,fx=0.4,fy=0.3)\n",
    "height,width,channels = img.shape"
   ]
  },
  {
   "cell_type": "code",
   "execution_count": 8,
   "metadata": {},
   "outputs": [],
   "source": [
    "blob = cv2.dnn.blobFromImage(img,0.00392,(416,416),(0,0,0),True,crop=False)"
   ]
  },
  {
   "cell_type": "code",
   "execution_count": 14,
   "metadata": {},
   "outputs": [
    {
     "name": "stdout",
     "output_type": "stream",
     "text": [
      "7\n",
      "612 502\n",
      "0\n",
      "489 49\n",
      "4\n",
      "491 99\n",
      "5\n",
      "789 105\n",
      "5\n",
      "853 106\n",
      "5\n",
      "915 106\n",
      "6\n",
      "975 110\n",
      "2\n",
      "637 173\n",
      "9\n",
      "637 236\n",
      "11\n",
      "915 245\n",
      "3\n",
      "774 311\n",
      "14\n",
      "645 379\n",
      "8\n",
      "779 441\n",
      "7\n",
      "499 577\n",
      "3\n",
      "464 648\n",
      "1\n",
      "459 720\n"
     ]
    }
   ],
   "source": [
    "#     for n,img_blob in enumerate(b):\n",
    "#         cv2.imshow(str(n),img_blob)\n",
    "        \n",
    "net.setInput(blob)\n",
    "outs = net.forward(outputlayers)\n",
    "#print(outs[1])\n",
    "\n",
    "\n",
    "#Showing info on screen/ get confidence score of algorithm in detecting an object in blob\n",
    "class_ids=[]\n",
    "confidences=[]\n",
    "boxes=[]\n",
    "for out in outs:\n",
    "    for detection in out:\n",
    "        scores = detection[5:]\n",
    "        class_id = np.argmax(scores)\n",
    "        confidence = scores[class_id]\n",
    "        if confidence > 0.5:\n",
    "            #onject detected\n",
    "            center_x= int(detection[0]*width)\n",
    "            center_y= int(detection[1]*height)\n",
    "            w = int(detection[2]*width)\n",
    "            h = int(detection[3]*height)\n",
    "        \n",
    "            #cv2.circle(img,(center_x,center_y),10,(0,255,0),2)\n",
    "            #rectangle co-ordinaters\n",
    "            x=int(center_x - w/2)\n",
    "            y=int(center_y - h/2)\n",
    "            #cv2.rectangle(img,(x,y),(x+w,y+h),(0,255,0),2)\n",
    "            boxes.append([x,y,w,h]) #put all rectangle areas\n",
    "            confidences.append(float(confidence)) #how confidence was that object detected and show that percentage\n",
    "            class_ids.append(class_id) #name of the object tha was detected\n",
    "indexes = cv2.dnn.NMSBoxes(boxes,confidences,0.5,0.5)\n",
    "\n",
    "font = cv2.FONT_HERSHEY_PLAIN\n",
    "lst = []\n",
    "for i in range(len(boxes)):\n",
    "    if i in indexes:\n",
    "        x,y,w,h = boxes[i]\n",
    "        yolo = x,y,w,h\n",
    "        label = str(classes[class_ids[i]])\n",
    "        #color = colors[i]\n",
    "        cv2.rectangle(img,(x,y),(x+w,y+h),(0,255,0),2)\n",
    "        cv2.putText(img,label,(x,y+30),font,1,(255,255,255),2)\n",
    "        print(label)\n",
    "        lst.append([x, y, label])\n",
    "        print(x,y)\n",
    "cv2.imshow(\"prediction\",img)\n",
    "cv2.waitKey(0)\n",
    "cv2.destroyAllWindows()"
   ]
  },
  {
   "cell_type": "code",
   "execution_count": 10,
   "metadata": {},
   "outputs": [
    {
     "data": {
      "text/plain": [
       "[[489, 49, '0'],\n",
       " [491, 99, '4'],\n",
       " [789, 105, '5'],\n",
       " [853, 106, '5'],\n",
       " [915, 106, '5'],\n",
       " [975, 110, '6'],\n",
       " [637, 173, '2'],\n",
       " [637, 236, '9'],\n",
       " [915, 245, '11'],\n",
       " [774, 311, '3'],\n",
       " [645, 379, '14'],\n",
       " [779, 441, '8'],\n",
       " [612, 502, '7'],\n",
       " [499, 577, '7'],\n",
       " [464, 648, '3'],\n",
       " [459, 720, '1']]"
      ]
     },
     "execution_count": 10,
     "metadata": {},
     "output_type": "execute_result"
    }
   ],
   "source": [
    "sorted(lst, key=lambda x: x[-2])"
   ]
  },
  {
   "cell_type": "code",
   "execution_count": 11,
   "metadata": {},
   "outputs": [],
   "source": [
    "import pandas as pd"
   ]
  },
  {
   "cell_type": "code",
   "execution_count": 12,
   "metadata": {},
   "outputs": [
    {
     "data": {
      "text/html": [
       "<div>\n",
       "<style scoped>\n",
       "    .dataframe tbody tr th:only-of-type {\n",
       "        vertical-align: middle;\n",
       "    }\n",
       "\n",
       "    .dataframe tbody tr th {\n",
       "        vertical-align: top;\n",
       "    }\n",
       "\n",
       "    .dataframe thead th {\n",
       "        text-align: right;\n",
       "    }\n",
       "</style>\n",
       "<table border=\"1\" class=\"dataframe\">\n",
       "  <thead>\n",
       "    <tr style=\"text-align: right;\">\n",
       "      <th></th>\n",
       "      <th>X</th>\n",
       "      <th>Y</th>\n",
       "      <th>label</th>\n",
       "    </tr>\n",
       "  </thead>\n",
       "  <tbody>\n",
       "    <tr>\n",
       "      <th>0</th>\n",
       "      <td>489</td>\n",
       "      <td>49</td>\n",
       "      <td>0</td>\n",
       "    </tr>\n",
       "    <tr>\n",
       "      <th>1</th>\n",
       "      <td>491</td>\n",
       "      <td>99</td>\n",
       "      <td>4</td>\n",
       "    </tr>\n",
       "    <tr>\n",
       "      <th>2</th>\n",
       "      <td>789</td>\n",
       "      <td>105</td>\n",
       "      <td>5</td>\n",
       "    </tr>\n",
       "    <tr>\n",
       "      <th>3</th>\n",
       "      <td>853</td>\n",
       "      <td>106</td>\n",
       "      <td>5</td>\n",
       "    </tr>\n",
       "    <tr>\n",
       "      <th>4</th>\n",
       "      <td>915</td>\n",
       "      <td>106</td>\n",
       "      <td>5</td>\n",
       "    </tr>\n",
       "  </tbody>\n",
       "</table>\n",
       "</div>"
      ],
      "text/plain": [
       "     X    Y label\n",
       "0  489   49     0\n",
       "1  491   99     4\n",
       "2  789  105     5\n",
       "3  853  106     5\n",
       "4  915  106     5"
      ]
     },
     "execution_count": 12,
     "metadata": {},
     "output_type": "execute_result"
    }
   ],
   "source": [
    "df = pd.DataFrame(sorted(lst, key=lambda x: x[1]), columns=['X', 'Y', 'label'])\n",
    "df.head()"
   ]
  },
  {
   "cell_type": "code",
   "execution_count": 13,
   "metadata": {},
   "outputs": [
    {
     "data": {
      "text/plain": [
       "0      0\n",
       "1      4\n",
       "2      5\n",
       "3      5\n",
       "4      5\n",
       "5      6\n",
       "6      2\n",
       "7      9\n",
       "8     11\n",
       "9      3\n",
       "10    14\n",
       "11     8\n",
       "12     7\n",
       "13     7\n",
       "14     3\n",
       "15     1\n",
       "Name: label, dtype: object"
      ]
     },
     "execution_count": 13,
     "metadata": {},
     "output_type": "execute_result"
    }
   ],
   "source": [
    "df['label']"
   ]
  },
  {
   "cell_type": "code",
   "execution_count": 60,
   "metadata": {},
   "outputs": [
    {
     "ename": "NameError",
     "evalue": "name 'df' is not defined",
     "output_type": "error",
     "traceback": [
      "\u001b[1;31m---------------------------------------------------------------------------\u001b[0m",
      "\u001b[1;31mNameError\u001b[0m                                 Traceback (most recent call last)",
      "\u001b[1;32m<ipython-input-60-ff79fb7c88ac>\u001b[0m in \u001b[0;36m<module>\u001b[1;34m\u001b[0m\n\u001b[1;32m----> 1\u001b[1;33m \u001b[0mdf\u001b[0m\u001b[1;33m[\u001b[0m\u001b[1;34m'label'\u001b[0m\u001b[1;33m]\u001b[0m\u001b[1;33m.\u001b[0m\u001b[0mto_csv\u001b[0m\u001b[1;33m(\u001b[0m\u001b[1;34m'test.txt'\u001b[0m\u001b[1;33m,\u001b[0m \u001b[0mindex\u001b[0m\u001b[1;33m=\u001b[0m\u001b[1;32mFalse\u001b[0m\u001b[1;33m,\u001b[0m \u001b[0mheader\u001b[0m\u001b[1;33m=\u001b[0m\u001b[1;32mFalse\u001b[0m\u001b[1;33m)\u001b[0m\u001b[1;33m\u001b[0m\u001b[1;33m\u001b[0m\u001b[0m\n\u001b[0m",
      "\u001b[1;31mNameError\u001b[0m: name 'df' is not defined"
     ]
    }
   ],
   "source": [
    "df['label'].to_csv('test.txt', index=False, header=False)"
   ]
  },
  {
   "cell_type": "code",
   "execution_count": 484,
   "metadata": {},
   "outputs": [],
   "source": [
    "lst = ['start', 'turn left', 'move', 'move', 'loop', 'move', 'move', 'move', 'end_num', 'turn left', 'end loop', 'move', 'move', 'end']"
   ]
  },
  {
   "cell_type": "code",
   "execution_count": 485,
   "metadata": {},
   "outputs": [],
   "source": [
    "check = [i for i,x in enumerate(lst) if x=='loop' or x=='end_num']\n",
    "for i in range(0, len(check), 2):\n",
    "    count = 1\n",
    "    for j in range(check[i]+1, check[i+1]):\n",
    "        lst[j] = (count)\n",
    "        count+=1\n",
    "        \n",
    "check2 = [i for i,x in enumerate(lst) if x=='end_num' or x=='end loop']\n",
    "count = 0\n",
    "for i in range(0, len(check2), 2):\n",
    "    for p in range(0, lst[check2[i]-2+count]):\n",
    "        for j in range(check2[i]+1+count, check2[i+1]+count):\n",
    "            lst.insert(check2[i+1]+count,lst[j])\n",
    "            count += 1\n",
    "    check = [i for i,x in enumerate(lst) if x=='loop' or x=='end_num']\n",
    "for i in range(0, len(check), 2):\n",
    "    del lst[check[0]:check[1]+1]\n",
    "    check = [i for i,x in enumerate(lst) if x=='loop' or x=='end_num']\n",
    "\n",
    "check_end_loop = [i for i,x in enumerate(lst) if x=='end loop']\n",
    "for i in range(0, len(check_end_loop)):\n",
    "    lst.remove('end loop')"
   ]
  },
  {
   "cell_type": "code",
   "execution_count": 486,
   "metadata": {},
   "outputs": [
    {
     "ename": "TypeError",
     "evalue": "'str' object cannot be interpreted as an integer",
     "output_type": "error",
     "traceback": [
      "\u001b[1;31m---------------------------------------------------------------------------\u001b[0m",
      "\u001b[1;31mTypeError\u001b[0m                                 Traceback (most recent call last)",
      "\u001b[1;32m<ipython-input-486-bd16811b1844>\u001b[0m in \u001b[0;36m<module>\u001b[1;34m\u001b[0m\n\u001b[0;32m      1\u001b[0m \u001b[0mcount\u001b[0m \u001b[1;33m=\u001b[0m \u001b[1;36m0\u001b[0m\u001b[1;33m\u001b[0m\u001b[1;33m\u001b[0m\u001b[0m\n\u001b[0;32m      2\u001b[0m \u001b[1;32mfor\u001b[0m \u001b[0mi\u001b[0m \u001b[1;32min\u001b[0m \u001b[0mrange\u001b[0m\u001b[1;33m(\u001b[0m\u001b[1;36m0\u001b[0m\u001b[1;33m,\u001b[0m \u001b[0mlen\u001b[0m\u001b[1;33m(\u001b[0m\u001b[0mcheck2\u001b[0m\u001b[1;33m)\u001b[0m\u001b[1;33m,\u001b[0m \u001b[1;36m2\u001b[0m\u001b[1;33m)\u001b[0m\u001b[1;33m:\u001b[0m\u001b[1;33m\u001b[0m\u001b[1;33m\u001b[0m\u001b[0m\n\u001b[1;32m----> 3\u001b[1;33m     \u001b[1;32mfor\u001b[0m \u001b[0mp\u001b[0m \u001b[1;32min\u001b[0m \u001b[0mrange\u001b[0m\u001b[1;33m(\u001b[0m\u001b[1;36m0\u001b[0m\u001b[1;33m,\u001b[0m \u001b[0mlst\u001b[0m\u001b[1;33m[\u001b[0m\u001b[0mcheck2\u001b[0m\u001b[1;33m[\u001b[0m\u001b[0mi\u001b[0m\u001b[1;33m]\u001b[0m\u001b[1;33m-\u001b[0m\u001b[1;36m2\u001b[0m\u001b[1;33m+\u001b[0m\u001b[0mcount\u001b[0m\u001b[1;33m]\u001b[0m\u001b[1;33m)\u001b[0m\u001b[1;33m:\u001b[0m\u001b[1;33m\u001b[0m\u001b[1;33m\u001b[0m\u001b[0m\n\u001b[0m\u001b[0;32m      4\u001b[0m         \u001b[1;32mfor\u001b[0m \u001b[0mj\u001b[0m \u001b[1;32min\u001b[0m \u001b[0mrange\u001b[0m\u001b[1;33m(\u001b[0m\u001b[0mcheck2\u001b[0m\u001b[1;33m[\u001b[0m\u001b[0mi\u001b[0m\u001b[1;33m]\u001b[0m\u001b[1;33m+\u001b[0m\u001b[1;36m1\u001b[0m\u001b[1;33m+\u001b[0m\u001b[0mcount\u001b[0m\u001b[1;33m,\u001b[0m \u001b[0mcheck2\u001b[0m\u001b[1;33m[\u001b[0m\u001b[0mi\u001b[0m\u001b[1;33m+\u001b[0m\u001b[1;36m1\u001b[0m\u001b[1;33m]\u001b[0m\u001b[1;33m+\u001b[0m\u001b[0mcount\u001b[0m\u001b[1;33m)\u001b[0m\u001b[1;33m:\u001b[0m\u001b[1;33m\u001b[0m\u001b[1;33m\u001b[0m\u001b[0m\n\u001b[0;32m      5\u001b[0m             \u001b[0mlst\u001b[0m\u001b[1;33m.\u001b[0m\u001b[0minsert\u001b[0m\u001b[1;33m(\u001b[0m\u001b[0mcheck2\u001b[0m\u001b[1;33m[\u001b[0m\u001b[0mi\u001b[0m\u001b[1;33m+\u001b[0m\u001b[1;36m1\u001b[0m\u001b[1;33m]\u001b[0m\u001b[1;33m+\u001b[0m\u001b[0mcount\u001b[0m\u001b[1;33m,\u001b[0m\u001b[0mlst\u001b[0m\u001b[1;33m[\u001b[0m\u001b[0mj\u001b[0m\u001b[1;33m]\u001b[0m\u001b[1;33m)\u001b[0m\u001b[1;33m\u001b[0m\u001b[1;33m\u001b[0m\u001b[0m\n",
      "\u001b[1;31mTypeError\u001b[0m: 'str' object cannot be interpreted as an integer"
     ]
    }
   ],
   "source": [
    "count = 0\n",
    "for i in range(0, len(check2), 2):\n",
    "    for p in range(0, lst[check2[i]-2+count]):\n",
    "        for j in range(check2[i]+1+count, check2[i+1]+count):\n",
    "            lst.insert(check2[i+1]+count,lst[j])\n",
    "            count += 1\n",
    "    check = [i for i,x in enumerate(lst) if x=='loop' or x=='end_num']"
   ]
  },
  {
   "cell_type": "code",
   "execution_count": 487,
   "metadata": {},
   "outputs": [],
   "source": [
    "# lst"
   ]
  },
  {
   "cell_type": "code",
   "execution_count": 488,
   "metadata": {},
   "outputs": [],
   "source": [
    "# check = [i for i,x in enumerate(lst) if x=='loop' or x=='end_num']\n",
    "# for i in range(0, len(check), 2):\n",
    "#     print(check[i], check[i+1])\n",
    "#     count = 1\n",
    "#     for j in range(check[i]+1, check[i+1]):\n",
    "#         lst[j] = str(count)\n",
    "#         count+=1\n",
    "#         print(lst[j])"
   ]
  },
  {
   "cell_type": "code",
   "execution_count": 489,
   "metadata": {},
   "outputs": [
    {
     "data": {
      "text/plain": [
       "[]"
      ]
     },
     "execution_count": 489,
     "metadata": {},
     "output_type": "execute_result"
    }
   ],
   "source": [
    "check"
   ]
  },
  {
   "cell_type": "code",
   "execution_count": 490,
   "metadata": {},
   "outputs": [],
   "source": [
    "for i in range(0, len(check), 2):\n",
    "    del lst[check[0]:check[1]+1]\n",
    "    check = [i for i,x in enumerate(lst) if x=='loop' or x=='end_num']\n",
    "\n",
    "check_end_loop = [i for i,x in enumerate(lst) if x=='end loop']\n",
    "for i in range(0, len(check_end_loop)):\n",
    "    lst.remove('end loop')"
   ]
  },
  {
   "cell_type": "code",
   "execution_count": 491,
   "metadata": {},
   "outputs": [
    {
     "data": {
      "text/plain": [
       "['start',\n",
       " 'turn left',\n",
       " 'move',\n",
       " 'move',\n",
       " 'turn left',\n",
       " 'turn left',\n",
       " 'turn left',\n",
       " 'move',\n",
       " 'move',\n",
       " 'end']"
      ]
     },
     "execution_count": 491,
     "metadata": {},
     "output_type": "execute_result"
    }
   ],
   "source": [
    "lst"
   ]
  },
  {
   "cell_type": "code",
   "execution_count": 420,
   "metadata": {},
   "outputs": [],
   "source": [
    "count = 0;\n",
    "for i in range(0, len(check), 2):\n",
    "    del lst[check[i]:check[i]+1]\n",
    "    check = [i for i,x in enumerate(lst) if x=='loop' or x=='end_num']"
   ]
  },
  {
   "cell_type": "code",
   "execution_count": 1,
   "metadata": {},
   "outputs": [],
   "source": [
    "lst = [100,100,200]\n",
    "lst2 = [150, 170,200]\n",
    "lst3 = lst+lst2"
   ]
  },
  {
   "cell_type": "code",
   "execution_count": 2,
   "metadata": {},
   "outputs": [
    {
     "name": "stdout",
     "output_type": "stream",
     "text": [
      "x 100 i 100\n",
      "y 100 j 150\n",
      "True\n",
      "x 150 i 100\n",
      "y 150 j 170\n",
      "True\n",
      "x 200 i 200\n",
      "y 200 j 200\n",
      "True\n"
     ]
    }
   ],
   "source": [
    "x = 100\n",
    "y = 100\n",
    "for i,j in zip(lst,lst2):\n",
    "    print('x',x, 'i',i)\n",
    "    print('y',y, 'j',j)\n",
    "    if x >= i-50 and y >= j-50:\n",
    "        print(True)\n",
    "    else:\n",
    "        print(False)\n",
    "    x += 50\n",
    "    y += 50\n"
   ]
  },
  {
   "cell_type": "code",
   "execution_count": 3,
   "metadata": {},
   "outputs": [
    {
     "data": {
      "text/plain": [
       "3"
      ]
     },
     "execution_count": 3,
     "metadata": {},
     "output_type": "execute_result"
    }
   ],
   "source": [
    "len(lst)"
   ]
  },
  {
   "cell_type": "code",
   "execution_count": 34,
   "metadata": {},
   "outputs": [
    {
     "name": "stdout",
     "output_type": "stream",
     "text": [
      "[101, 203, 152] [152, 152, 254]\n"
     ]
    }
   ],
   "source": [
    "box_x = [1,3,2]\n",
    "box_y = [2,2,4]\n",
    "lenght = 500\n",
    "hight = 500\n",
    "move_space = 50\n",
    "def create_box_grid(x,y):\n",
    "    box_x = []\n",
    "    box_y = []\n",
    "    for i,j in zip(x,y):\n",
    "        if (i*move_space)+i+50 >= (lenght) or (j*move_space)+j+50 >= (hight) :\n",
    "            return print('Error pos ')\n",
    "        else:\n",
    "            box_x.append((i*move_space)+i+50)\n",
    "            box_y.append((j*move_space)+j+50)\n",
    "    return box_x,box_y\n",
    "box_x,box_y = create_box_grid(box_x,box_y)\n",
    "print(box_x,box_y)"
   ]
  },
  {
   "cell_type": "code",
   "execution_count": 104,
   "metadata": {
    "scrolled": false
   },
   "outputs": [
    {
     "name": "stdout",
     "output_type": "stream",
     "text": [
      "101 50\n",
      "152 50\n",
      "152 101\n",
      "152 152\n",
      "152 203\n",
      "203 203\n"
     ]
    }
   ],
   "source": [
    "walk_x = [1,1,0,0,0,1]\n",
    "walk_y = [0,0,1,1,1,0]\n",
    "m = 0\n",
    "k = 0\n",
    "x = 50\n",
    "y = 50\n",
    "done = 0\n",
    "while done < 9:\n",
    "    if done ==0:\n",
    "        for i in range(len(walk_x)):\n",
    "            if walk_x[i] ==1:\n",
    "                k += 1\n",
    "                x += (move_space)\n",
    "            elif walk_y[i] ==1:\n",
    "                m += 1\n",
    "                y += (move_space)\n",
    "            new_x,new_y = (x+k,y+m)\n",
    "            print(new_x,new_y)\n",
    "#             print(find_colli(new_x,new_y,box_x,box_y))\n",
    "    done +=1"
   ]
  },
  {
   "cell_type": "code",
   "execution_count": 77,
   "metadata": {
    "scrolled": true
   },
   "outputs": [
    {
     "name": "stdout",
     "output_type": "stream",
     "text": [
      "-111 -57\n"
     ]
    }
   ],
   "source": [
    "print(box_x[0]-x,(box_y[0]-y))"
   ]
  },
  {
   "cell_type": "code",
   "execution_count": 50,
   "metadata": {},
   "outputs": [
    {
     "name": "stdout",
     "output_type": "stream",
     "text": [
      "51 0\n"
     ]
    }
   ],
   "source": [
    "print(box_x[1]-x,(box_y[1]-y))"
   ]
  },
  {
   "cell_type": "code",
   "execution_count": 44,
   "metadata": {},
   "outputs": [
    {
     "name": "stdout",
     "output_type": "stream",
     "text": [
      "51 153\n"
     ]
    }
   ],
   "source": [
    "print(box_x[2]-x,(box_y[2]-y))"
   ]
  },
  {
   "cell_type": "code",
   "execution_count": 51,
   "metadata": {},
   "outputs": [],
   "source": [
    "json = {'F_col':[0,51],'B_col':[0,-51],'L_col':[-51,0],'R_col':[51,0]}"
   ]
  },
  {
   "cell_type": "code",
   "execution_count": null,
   "metadata": {},
   "outputs": [],
   "source": []
  },
  {
   "cell_type": "code",
   "execution_count": 55,
   "metadata": {
    "scrolled": true
   },
   "outputs": [
    {
     "name": "stdout",
     "output_type": "stream",
     "text": [
      "L_col\n"
     ]
    }
   ],
   "source": [
    "for i,k in json.items():\n",
    "    if k == [-51,0]:\n",
    "        print(i)"
   ]
  },
  {
   "cell_type": "code",
   "execution_count": 105,
   "metadata": {},
   "outputs": [],
   "source": [
    "def find_colli(x,y,box_x,box_y):\n",
    "    kst = []\n",
    "    json = {'F_col':[0,51],'B_col':[0,-51],'L_col':[-51,0],'R_col':[51,0]}\n",
    "    for i in range(len(box_x)):\n",
    "        kst.append([box_x[i]-x,box_y[i]-y])\n",
    "    for i in range(len(kst)):\n",
    "        for h in kst:\n",
    "            for j,k in json.items():\n",
    "                if h == k:\n",
    "                    return j\n",
    "                else:\n",
    "                    pass\n",
    "\n",
    "    "
   ]
  },
  {
   "cell_type": "code",
   "execution_count": 106,
   "metadata": {},
   "outputs": [
    {
     "name": "stdout",
     "output_type": "stream",
     "text": [
      "B_col\n"
     ]
    }
   ],
   "source": [
    "print(find_colli(new_x,new_y,box_x,box_y))"
   ]
  },
  {
   "cell_type": "code",
   "execution_count": 27,
   "metadata": {},
   "outputs": [
    {
     "data": {
      "text/plain": [
       "'B_col'"
      ]
     },
     "execution_count": 27,
     "metadata": {},
     "output_type": "execute_result"
    }
   ],
   "source": [
    "jj"
   ]
  },
  {
   "cell_type": "code",
   "execution_count": 24,
   "metadata": {},
   "outputs": [
    {
     "data": {
      "text/plain": [
       "[[-102, -51], [0, -51], [-51, 51]]"
      ]
     },
     "execution_count": 24,
     "metadata": {},
     "output_type": "execute_result"
    }
   ],
   "source": [
    "kk"
   ]
  },
  {
   "cell_type": "code",
   "execution_count": 29,
   "metadata": {},
   "outputs": [
    {
     "data": {
      "text/plain": [
       "[[-102, -51], [0, -51], [-51, 51]]"
      ]
     },
     "execution_count": 29,
     "metadata": {},
     "output_type": "execute_result"
    }
   ],
   "source": [
    "kk\n"
   ]
  },
  {
   "cell_type": "code",
   "execution_count": null,
   "metadata": {},
   "outputs": [],
   "source": []
  }
 ],
 "metadata": {
  "kernelspec": {
   "display_name": "Python 3",
   "language": "python",
   "name": "python3"
  },
  "language_info": {
   "codemirror_mode": {
    "name": "ipython",
    "version": 3
   },
   "file_extension": ".py",
   "mimetype": "text/x-python",
   "name": "python",
   "nbconvert_exporter": "python",
   "pygments_lexer": "ipython3",
   "version": "3.8.3"
  }
 },
 "nbformat": 4,
 "nbformat_minor": 4
}
